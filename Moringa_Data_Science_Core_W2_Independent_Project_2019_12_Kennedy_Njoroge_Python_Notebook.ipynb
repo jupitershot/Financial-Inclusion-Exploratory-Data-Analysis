{
  "nbformat": 4,
  "nbformat_minor": 0,
  "metadata": {
    "colab": {
      "name": "Moringa_Data_Science_Core_W2_Independent_Project_2019_12_Kennedy_Njoroge_Python_Notebook.ipynb",
      "provenance": [],
      "toc_visible": true,
      "include_colab_link": true
    },
    "kernelspec": {
      "display_name": "Python 3",
      "language": "python",
      "name": "python3"
    },
    "language_info": {
      "codemirror_mode": {
        "name": "ipython",
        "version": 3
      },
      "file_extension": ".py",
      "mimetype": "text/x-python",
      "name": "python",
      "nbconvert_exporter": "python",
      "pygments_lexer": "ipython3",
      "version": "3.6.3"
    }
  },
  "cells": [
    {
      "cell_type": "markdown",
      "metadata": {
        "id": "view-in-github",
        "colab_type": "text"
      },
      "source": [
        "<a href=\"https://colab.research.google.com/github/jupitershot/Financial-Inclusion-Exploratory-Data-Analysis/blob/master/Moringa_Data_Science_Core_W2_Independent_Project_2019_12_Kennedy_Njoroge_Python_Notebook.ipynb\" target=\"_parent\"><img src=\"https://colab.research.google.com/assets/colab-badge.svg\" alt=\"Open In Colab\"/></a>"
      ]
    },
    {
      "cell_type": "markdown",
      "metadata": {
        "colab_type": "text",
        "id": "EEtNvLyN_76k"
      },
      "source": [
        "# Financial Inclusion Exploratory Data Analysis\n"
      ]
    },
    {
      "cell_type": "markdown",
      "metadata": {
        "colab_type": "text",
        "id": "lNhwMAiQAdrb"
      },
      "source": [
        "## 1 Question Definition\n"
      ]
    },
    {
      "cell_type": "markdown",
      "metadata": {
        "colab_type": "text",
        "id": "a3SoXvY8AhxF"
      },
      "source": [
        "### a) Specifying the Data Analytic Question\n"
      ]
    },
    {
      "cell_type": "markdown",
      "metadata": {
        "id": "b5PnwK1dii6f",
        "colab_type": "text"
      },
      "source": [
        "The research problem is to figure out how we can predict which individuals are most likely to have or use a bank account. \n",
        "The solution will help provide an indication of the state of financial inclusion in Kenya, Rwanda, Tanzania, and Uganda, while providing insights into some of the key demographic factors that might drive individuals’ financial outcomes."
      ]
    },
    {
      "cell_type": "markdown",
      "metadata": {
        "colab_type": "text",
        "id": "WZWGahN7Au00"
      },
      "source": [
        "### b) Defining the Metric for Success\n"
      ]
    },
    {
      "cell_type": "markdown",
      "metadata": {
        "id": "4m3YvUf8ii6h",
        "colab_type": "text"
      },
      "source": [
        "All exploratory data analysis steps are completed. \n",
        "1. Data structure understood. \n",
        "2. Data successfully cleaned\n",
        "2. Bivariate and univariate analysis done.\n",
        "3. Reduction successfully applied on the data"
      ]
    },
    {
      "cell_type": "markdown",
      "metadata": {
        "colab_type": "text",
        "id": "wqQninp0AyYX"
      },
      "source": [
        "### c) Understanding the context "
      ]
    },
    {
      "cell_type": "markdown",
      "metadata": {
        "id": "VygMFg7aii6j",
        "colab_type": "text"
      },
      "source": [
        "1. The dataset is extracted from Kenya, Rwanda, Tanzania, and Uganda  where only 9.1 million adults (or 13.9% of the adult population) have access to or use a commercial bank account.\n",
        "2. The data was extracted from various Finscope surveys ranging from 2016 to 2018.\n",
        "3. Access to bank accounts enables households to save and facilitate payments while also helping businesses build up their credit-worthiness and improve their access to other financial services. Therefore, access to bank accounts is an essential contributor to long-term economic growth."
      ]
    },
    {
      "cell_type": "markdown",
      "metadata": {
        "colab_type": "text",
        "id": "MHmEKxTMA4gO"
      },
      "source": [
        "### d) Recording the Experimental Design\n",
        "\n"
      ]
    },
    {
      "cell_type": "markdown",
      "metadata": {
        "id": "pPaFJusoii6l",
        "colab_type": "text"
      },
      "source": [
        ""
      ]
    },
    {
      "cell_type": "markdown",
      "metadata": {
        "colab_type": "text",
        "id": "kokZtgpuA6uk"
      },
      "source": [
        "### e) Data Relevance"
      ]
    },
    {
      "cell_type": "markdown",
      "metadata": {
        "colab_type": "text",
        "id": "ZtMesjo8BLRc"
      },
      "source": [
        "## 2. Importing the data"
      ]
    },
    {
      "cell_type": "code",
      "metadata": {
        "id": "_X9UNIUOii6n",
        "colab_type": "code",
        "colab": {}
      },
      "source": [
        "#Import Python Libraries\n",
        "import numpy as np\n",
        "import pandas as pd\n",
        "import matplotlib.pyplot as plt\n",
        "import seaborn as sns"
      ],
      "execution_count": 0,
      "outputs": []
    },
    {
      "cell_type": "code",
      "metadata": {
        "id": "0Qn1_v1mii6r",
        "colab_type": "code",
        "colab": {}
      },
      "source": [
        "#Import Dataset\n",
        "df = pd.read_csv('Financial Dataset.csv')"
      ],
      "execution_count": 0,
      "outputs": []
    },
    {
      "cell_type": "markdown",
      "metadata": {
        "colab_type": "text",
        "id": "geoEt0NXBN7V"
      },
      "source": [
        "## 3. Checking the Data"
      ]
    },
    {
      "cell_type": "code",
      "metadata": {
        "id": "7dLVkHaGii6v",
        "colab_type": "code",
        "colab": {},
        "outputId": "714c3c82-41a2-44d4-a72b-ab6b4c3d7206"
      },
      "source": [
        "# Number of records\n",
        "df.shape"
      ],
      "execution_count": 0,
      "outputs": [
        {
          "output_type": "execute_result",
          "data": {
            "text/plain": [
              "(23524, 13)"
            ]
          },
          "metadata": {
            "tags": []
          },
          "execution_count": 121
        }
      ]
    },
    {
      "cell_type": "code",
      "metadata": {
        "id": "5AxtKAJzii6z",
        "colab_type": "code",
        "colab": {},
        "outputId": "c3d979c1-36c7-44ce-ba08-86bb32f54d2e"
      },
      "source": [
        "#View sample dataset to understand structure\n",
        "df.sample(n=5)"
      ],
      "execution_count": 0,
      "outputs": [
        {
          "output_type": "execute_result",
          "data": {
            "text/html": [
              "<div>\n",
              "<style>\n",
              "    .dataframe thead tr:only-child th {\n",
              "        text-align: right;\n",
              "    }\n",
              "\n",
              "    .dataframe thead th {\n",
              "        text-align: left;\n",
              "    }\n",
              "\n",
              "    .dataframe tbody tr th {\n",
              "        vertical-align: top;\n",
              "    }\n",
              "</style>\n",
              "<table border=\"1\" class=\"dataframe\">\n",
              "  <thead>\n",
              "    <tr style=\"text-align: right;\">\n",
              "      <th></th>\n",
              "      <th>country</th>\n",
              "      <th>year</th>\n",
              "      <th>uniqueid</th>\n",
              "      <th>Has a Bank account</th>\n",
              "      <th>Type of Location</th>\n",
              "      <th>Cell Phone Access</th>\n",
              "      <th>household_size</th>\n",
              "      <th>Respondent Age</th>\n",
              "      <th>gender_of_respondent</th>\n",
              "      <th>The relathip with head</th>\n",
              "      <th>marital_status</th>\n",
              "      <th>Level of Educuation</th>\n",
              "      <th>Type of Job</th>\n",
              "    </tr>\n",
              "  </thead>\n",
              "  <tbody>\n",
              "    <tr>\n",
              "      <th>20175</th>\n",
              "      <td>Tanzania</td>\n",
              "      <td>2017</td>\n",
              "      <td>uniqueid_5373</td>\n",
              "      <td>No</td>\n",
              "      <td>Urban</td>\n",
              "      <td>Yes</td>\n",
              "      <td>2.0</td>\n",
              "      <td>32.0</td>\n",
              "      <td>Male</td>\n",
              "      <td>Head of Household</td>\n",
              "      <td>Single/Never Married</td>\n",
              "      <td>Primary education</td>\n",
              "      <td>Self employed</td>\n",
              "    </tr>\n",
              "    <tr>\n",
              "      <th>2232</th>\n",
              "      <td>Kenya</td>\n",
              "      <td>2018</td>\n",
              "      <td>uniqueid_2233</td>\n",
              "      <td>No</td>\n",
              "      <td>Rural</td>\n",
              "      <td>Yes</td>\n",
              "      <td>3.0</td>\n",
              "      <td>75.0</td>\n",
              "      <td>Male</td>\n",
              "      <td>Head of Household</td>\n",
              "      <td>Married/Living together</td>\n",
              "      <td>Primary education</td>\n",
              "      <td>Farming and Fishing</td>\n",
              "    </tr>\n",
              "    <tr>\n",
              "      <th>15571</th>\n",
              "      <td>Tanzania</td>\n",
              "      <td>2017</td>\n",
              "      <td>uniqueid_769</td>\n",
              "      <td>No</td>\n",
              "      <td>Urban</td>\n",
              "      <td>No</td>\n",
              "      <td>3.0</td>\n",
              "      <td>22.0</td>\n",
              "      <td>Female</td>\n",
              "      <td>Other relative</td>\n",
              "      <td>Single/Never Married</td>\n",
              "      <td>Primary education</td>\n",
              "      <td>Informally employed</td>\n",
              "    </tr>\n",
              "    <tr>\n",
              "      <th>6034</th>\n",
              "      <td>Kenya</td>\n",
              "      <td>2018</td>\n",
              "      <td>uniqueid_6035</td>\n",
              "      <td>No</td>\n",
              "      <td>Rural</td>\n",
              "      <td>Yes</td>\n",
              "      <td>4.0</td>\n",
              "      <td>30.0</td>\n",
              "      <td>Female</td>\n",
              "      <td>Spouse</td>\n",
              "      <td>Married/Living together</td>\n",
              "      <td>Primary education</td>\n",
              "      <td>Self employed</td>\n",
              "    </tr>\n",
              "    <tr>\n",
              "      <th>7450</th>\n",
              "      <td>Rwanda</td>\n",
              "      <td>2016</td>\n",
              "      <td>uniqueid_1383</td>\n",
              "      <td>No</td>\n",
              "      <td>Rural</td>\n",
              "      <td>No</td>\n",
              "      <td>3.0</td>\n",
              "      <td>67.0</td>\n",
              "      <td>Male</td>\n",
              "      <td>Head of Household</td>\n",
              "      <td>Married/Living together</td>\n",
              "      <td>Primary education</td>\n",
              "      <td>Self employed</td>\n",
              "    </tr>\n",
              "  </tbody>\n",
              "</table>\n",
              "</div>"
            ],
            "text/plain": [
              "        country  year       uniqueid Has a Bank account Type of Location  \\\n",
              "20175  Tanzania  2017  uniqueid_5373                 No            Urban   \n",
              "2232      Kenya  2018  uniqueid_2233                 No            Rural   \n",
              "15571  Tanzania  2017   uniqueid_769                 No            Urban   \n",
              "6034      Kenya  2018  uniqueid_6035                 No            Rural   \n",
              "7450     Rwanda  2016  uniqueid_1383                 No            Rural   \n",
              "\n",
              "      Cell Phone Access  household_size  Respondent Age gender_of_respondent  \\\n",
              "20175               Yes             2.0            32.0                 Male   \n",
              "2232                Yes             3.0            75.0                 Male   \n",
              "15571                No             3.0            22.0               Female   \n",
              "6034                Yes             4.0            30.0               Female   \n",
              "7450                 No             3.0            67.0                 Male   \n",
              "\n",
              "      The relathip with head           marital_status Level of Educuation  \\\n",
              "20175      Head of Household     Single/Never Married   Primary education   \n",
              "2232       Head of Household  Married/Living together   Primary education   \n",
              "15571         Other relative     Single/Never Married   Primary education   \n",
              "6034                  Spouse  Married/Living together   Primary education   \n",
              "7450       Head of Household  Married/Living together   Primary education   \n",
              "\n",
              "               Type of Job  \n",
              "20175        Self employed  \n",
              "2232   Farming and Fishing  \n",
              "15571  Informally employed  \n",
              "6034         Self employed  \n",
              "7450         Self employed  "
            ]
          },
          "metadata": {
            "tags": []
          },
          "execution_count": 122
        }
      ]
    },
    {
      "cell_type": "code",
      "metadata": {
        "id": "ibBRds1Qii62",
        "colab_type": "code",
        "colab": {},
        "outputId": "9352d56c-1293-42ad-967e-397d838cbfa8"
      },
      "source": [
        "#Check the structure of the columns\n",
        "df.info()"
      ],
      "execution_count": 0,
      "outputs": [
        {
          "output_type": "stream",
          "text": [
            "<class 'pandas.core.frame.DataFrame'>\n",
            "RangeIndex: 23524 entries, 0 to 23523\n",
            "Data columns (total 13 columns):\n",
            "country                   23510 non-null object\n",
            "year                      23524 non-null int64\n",
            "uniqueid                  23524 non-null object\n",
            "Has a Bank account        23488 non-null object\n",
            "Type of Location          23509 non-null object\n",
            "Cell Phone Access         23513 non-null object\n",
            "household_size            23496 non-null float64\n",
            "Respondent Age            23490 non-null float64\n",
            "gender_of_respondent      23490 non-null object\n",
            "The relathip with head    23520 non-null object\n",
            "marital_status            23492 non-null object\n",
            "Level of Educuation       23495 non-null object\n",
            "Type of Job               23494 non-null object\n",
            "dtypes: float64(2), int64(1), object(10)\n",
            "memory usage: 2.3+ MB\n"
          ],
          "name": "stdout"
        }
      ]
    },
    {
      "cell_type": "code",
      "metadata": {
        "id": "U_fk-SZmii65",
        "colab_type": "code",
        "colab": {},
        "outputId": "0dac4023-22ef-45a7-e93b-c1e0a491b8db"
      },
      "source": [
        "# \n",
        "df.country.unique()"
      ],
      "execution_count": 0,
      "outputs": [
        {
          "output_type": "execute_result",
          "data": {
            "text/plain": [
              "array(['Kenya', 'Rwanda', 'Tanzania', nan, 'Uganda'], dtype=object)"
            ]
          },
          "metadata": {
            "tags": []
          },
          "execution_count": 124
        }
      ]
    },
    {
      "cell_type": "code",
      "metadata": {
        "id": "lZYbcPlPii68",
        "colab_type": "code",
        "colab": {},
        "outputId": "58cf1668-236f-43d6-a4d1-2c8dcf807d9b"
      },
      "source": [
        "#Description\n",
        "df.describe()"
      ],
      "execution_count": 0,
      "outputs": [
        {
          "output_type": "execute_result",
          "data": {
            "text/html": [
              "<div>\n",
              "<style>\n",
              "    .dataframe thead tr:only-child th {\n",
              "        text-align: right;\n",
              "    }\n",
              "\n",
              "    .dataframe thead th {\n",
              "        text-align: left;\n",
              "    }\n",
              "\n",
              "    .dataframe tbody tr th {\n",
              "        vertical-align: top;\n",
              "    }\n",
              "</style>\n",
              "<table border=\"1\" class=\"dataframe\">\n",
              "  <thead>\n",
              "    <tr style=\"text-align: right;\">\n",
              "      <th></th>\n",
              "      <th>year</th>\n",
              "      <th>household_size</th>\n",
              "      <th>Respondent Age</th>\n",
              "    </tr>\n",
              "  </thead>\n",
              "  <tbody>\n",
              "    <tr>\n",
              "      <th>count</th>\n",
              "      <td>23524.000000</td>\n",
              "      <td>23496.000000</td>\n",
              "      <td>23490.000000</td>\n",
              "    </tr>\n",
              "    <tr>\n",
              "      <th>mean</th>\n",
              "      <td>2016.979000</td>\n",
              "      <td>3.681818</td>\n",
              "      <td>38.804300</td>\n",
              "    </tr>\n",
              "    <tr>\n",
              "      <th>std</th>\n",
              "      <td>0.899669</td>\n",
              "      <td>2.279933</td>\n",
              "      <td>16.519996</td>\n",
              "    </tr>\n",
              "    <tr>\n",
              "      <th>min</th>\n",
              "      <td>2016.000000</td>\n",
              "      <td>0.000000</td>\n",
              "      <td>16.000000</td>\n",
              "    </tr>\n",
              "    <tr>\n",
              "      <th>25%</th>\n",
              "      <td>2016.000000</td>\n",
              "      <td>2.000000</td>\n",
              "      <td>26.000000</td>\n",
              "    </tr>\n",
              "    <tr>\n",
              "      <th>50%</th>\n",
              "      <td>2017.000000</td>\n",
              "      <td>3.000000</td>\n",
              "      <td>35.000000</td>\n",
              "    </tr>\n",
              "    <tr>\n",
              "      <th>75%</th>\n",
              "      <td>2018.000000</td>\n",
              "      <td>5.000000</td>\n",
              "      <td>49.000000</td>\n",
              "    </tr>\n",
              "    <tr>\n",
              "      <th>max</th>\n",
              "      <td>2056.000000</td>\n",
              "      <td>21.000000</td>\n",
              "      <td>100.000000</td>\n",
              "    </tr>\n",
              "  </tbody>\n",
              "</table>\n",
              "</div>"
            ],
            "text/plain": [
              "               year  household_size  Respondent Age\n",
              "count  23524.000000    23496.000000    23490.000000\n",
              "mean    2016.979000        3.681818       38.804300\n",
              "std        0.899669        2.279933       16.519996\n",
              "min     2016.000000        0.000000       16.000000\n",
              "25%     2016.000000        2.000000       26.000000\n",
              "50%     2017.000000        3.000000       35.000000\n",
              "75%     2018.000000        5.000000       49.000000\n",
              "max     2056.000000       21.000000      100.000000"
            ]
          },
          "metadata": {
            "tags": []
          },
          "execution_count": 125
        }
      ]
    },
    {
      "cell_type": "markdown",
      "metadata": {
        "colab_type": "text",
        "id": "KnvSRtv-BR71"
      },
      "source": [
        "## 4. External Data Source Validation"
      ]
    },
    {
      "cell_type": "markdown",
      "metadata": {
        "colab_type": "text",
        "id": "2b8iIZLhBVFw"
      },
      "source": [
        "### a.Validation"
      ]
    },
    {
      "cell_type": "markdown",
      "metadata": {
        "colab_type": "text",
        "id": "7CqfUp8TBfkS"
      },
      "source": [
        "## 5. Tidying the Dataset"
      ]
    },
    {
      "cell_type": "markdown",
      "metadata": {
        "id": "ido_mbd4ii7C",
        "colab_type": "text"
      },
      "source": [
        "### 5.1 Checking Outliers"
      ]
    },
    {
      "cell_type": "code",
      "metadata": {
        "id": "T1kABO4hii7D",
        "colab_type": "code",
        "colab": {},
        "outputId": "3621c46d-cb48-4c27-b070-88b82aef54db"
      },
      "source": [
        "#Outlier: Year, household size and respondent age\n",
        "col_names = ['Respondent Age', 'year','household_size']\n",
        "\n",
        "fig, ax = plt.subplots(len(col_names), figsize=(6,20))\n",
        "\n",
        "for i, col_val in enumerate(col_names):\n",
        "\n",
        "    sns.boxplot(y=df[col_val], ax=ax[i])\n",
        "    ax[i].set_title('Box plot - {}'.format(col_val), fontsize=10)\n",
        "    ax[i].set_xlabel(col_val, fontsize=8)\n",
        "\n",
        "plt.show()"
      ],
      "execution_count": 0,
      "outputs": [
        {
          "output_type": "display_data",
          "data": {
            "image/png": "[encoded data removed]",
            "text/plain": [
              "<matplotlib.figure.Figure at 0x7efce545aeb8>"
            ]
          },
          "metadata": {
            "tags": []
          }
        }
      ]
    },
    {
      "cell_type": "markdown",
      "metadata": {
        "id": "bK2Hltdvii7G",
        "colab_type": "text"
      },
      "source": [
        "Outlier Notes\n",
        "1. Age - 2030, 2040, 2055 on boxplot noted - investigate further\n",
        "2. Respondent age. 3rd quartile is 80 years.  Outliers noted of age above 80 to 100. Check distribution quantities\n",
        "3. Household size - 10 - 22 noted as outliers. Check distribution quantities.\n",
        "\n",
        "NOTE: The data cannot be plotted via sns.distplot as there are null values.Error \"ValueError: cannot convert float NaN to integer\" \n",
        "We need to fill the null values for above columns before checking anormalies as below."
      ]
    },
    {
      "cell_type": "markdown",
      "metadata": {
        "id": "yIWd1xQvii7H",
        "colab_type": "text"
      },
      "source": [
        "### 5.2 Identify and Deal with Missing Data"
      ]
    },
    {
      "cell_type": "code",
      "metadata": {
        "id": "0i7ZR2prii7I",
        "colab_type": "code",
        "colab": {},
        "outputId": "86ec1e3b-31be-45ce-c2ca-76c6bd317cdc"
      },
      "source": [
        "#Check Null Columns\n",
        "df.isnull().sum()"
      ],
      "execution_count": 0,
      "outputs": [
        {
          "output_type": "execute_result",
          "data": {
            "text/plain": [
              "country                   14\n",
              "year                       0\n",
              "uniqueid                   0\n",
              "Has a Bank account        36\n",
              "Type of Location          15\n",
              "Cell Phone Access         11\n",
              "household_size            28\n",
              "Respondent Age            34\n",
              "gender_of_respondent      34\n",
              "The relathip with head     4\n",
              "marital_status            32\n",
              "Level of Educuation       29\n",
              "Type of Job               30\n",
              "dtype: int64"
            ]
          },
          "metadata": {
            "tags": []
          },
          "execution_count": 127
        }
      ]
    },
    {
      "cell_type": "markdown",
      "metadata": {
        "id": "ramju_qLii7L",
        "colab_type": "text"
      },
      "source": [
        "#### a) Age"
      ]
    },
    {
      "cell_type": "code",
      "metadata": {
        "id": "XOcCnmIgii7M",
        "colab_type": "code",
        "colab": {},
        "outputId": "5ac77ecf-b527-4462-aeb8-444864cd6303"
      },
      "source": [
        "# Mean of Age column\n",
        "print(df['Respondent Age'].mean())\n",
        "print(df['Respondent Age'].median())\n",
        "print(df['Respondent Age'].mode())"
      ],
      "execution_count": 0,
      "outputs": [
        {
          "output_type": "stream",
          "text": [
            "38.804299702000854\n",
            "35.0\n",
            "0    30.0\n",
            "dtype: float64\n"
          ],
          "name": "stdout"
        }
      ]
    },
    {
      "cell_type": "markdown",
      "metadata": {
        "id": "RrOs84fPii7P",
        "colab_type": "text"
      },
      "source": [
        "Mode will be used to fill the null values because:\n",
        "1. Respondent age has outliers hence mean is not the best fill nulls choice.\n",
        "2. Mode best for categorical variables."
      ]
    },
    {
      "cell_type": "code",
      "metadata": {
        "collapsed": true,
        "id": "M7ePUqFXii7Q",
        "colab_type": "code",
        "colab": {}
      },
      "source": [
        "#Fill null respondent age with median values\n",
        "df['Respondent Age'] = df['Respondent Age'].fillna(df['Respondent Age'].median())"
      ],
      "execution_count": 0,
      "outputs": []
    },
    {
      "cell_type": "code",
      "metadata": {
        "id": "9yB4JRS8ii7T",
        "colab_type": "code",
        "colab": {},
        "outputId": "3843b2ea-6969-4b40-ca65-92506c882e1f"
      },
      "source": [
        "#Count null\n",
        "df['Respondent Age'].isnull().sum()"
      ],
      "execution_count": 0,
      "outputs": [
        {
          "output_type": "execute_result",
          "data": {
            "text/plain": [
              "0"
            ]
          },
          "metadata": {
            "tags": []
          },
          "execution_count": 130
        }
      ]
    },
    {
      "cell_type": "markdown",
      "metadata": {
        "id": "5lKwEsRmii7X",
        "colab_type": "text"
      },
      "source": [
        "#### b) Year"
      ]
    },
    {
      "cell_type": "code",
      "metadata": {
        "id": "RzuwDSTSii7Y",
        "colab_type": "code",
        "colab": {},
        "outputId": "3c16a3ee-50f9-4b82-8401-4df873194fa2"
      },
      "source": [
        "# Mean of Age column\n",
        "print(df['year'].mean())\n",
        "print(df['year'].median())\n",
        "print(df['year'].mode())"
      ],
      "execution_count": 0,
      "outputs": [
        {
          "output_type": "stream",
          "text": [
            "2016.9790001700392\n",
            "2017.0\n",
            "0    2016\n",
            "dtype: int64\n"
          ],
          "name": "stdout"
        }
      ]
    },
    {
      "cell_type": "markdown",
      "metadata": {
        "id": "Gb2vCkDDii7c",
        "colab_type": "text"
      },
      "source": [
        "Mode to be used to fill null values in the year column as:\n",
        "a) Year has outliers\n",
        "b) Mode is the most occuring value."
      ]
    },
    {
      "cell_type": "code",
      "metadata": {
        "collapsed": true,
        "id": "gSndfi3eii7e",
        "colab_type": "code",
        "colab": {}
      },
      "source": [
        "#Fill null respondent age with median values\n",
        "df['year'] = df['year'].fillna(df['year'].mode())"
      ],
      "execution_count": 0,
      "outputs": []
    },
    {
      "cell_type": "code",
      "metadata": {
        "id": "rXdpgkLkii7j",
        "colab_type": "code",
        "colab": {},
        "outputId": "ff846e6a-7f93-40a3-c0e9-e3f143307ebe"
      },
      "source": [
        "#Count null\n",
        "df['year'].isnull().sum()"
      ],
      "execution_count": 0,
      "outputs": [
        {
          "output_type": "execute_result",
          "data": {
            "text/plain": [
              "0"
            ]
          },
          "metadata": {
            "tags": []
          },
          "execution_count": 133
        }
      ]
    },
    {
      "cell_type": "markdown",
      "metadata": {
        "id": "8iiPyKpMii7o",
        "colab_type": "text"
      },
      "source": [
        "#### c) Household size"
      ]
    },
    {
      "cell_type": "code",
      "metadata": {
        "id": "bQSb8_efii7p",
        "colab_type": "code",
        "colab": {},
        "outputId": "f972fcbb-325c-4ae9-acdc-bf3f8cc04a85"
      },
      "source": [
        "# Mean of Age column\n",
        "print(df['household_size'].mean())\n",
        "print(df['household_size'].median())\n",
        "print(df['household_size'].mode())"
      ],
      "execution_count": 0,
      "outputs": [
        {
          "output_type": "stream",
          "text": [
            "3.6818181818181817\n",
            "3.0\n",
            "0    2.0\n",
            "dtype: float64\n"
          ],
          "name": "stdout"
        }
      ]
    },
    {
      "cell_type": "markdown",
      "metadata": {
        "id": "mHffavchii7u",
        "colab_type": "text"
      },
      "source": [
        "Median will be used to fill the null values. There are outliers hence mean not preferred."
      ]
    },
    {
      "cell_type": "code",
      "metadata": {
        "collapsed": true,
        "id": "WWgvfc_1ii7u",
        "colab_type": "code",
        "colab": {}
      },
      "source": [
        "#Fill null respondent age with median values\n",
        "df['household_size'] = df['household_size'].fillna(df['household_size'].median())"
      ],
      "execution_count": 0,
      "outputs": []
    },
    {
      "cell_type": "code",
      "metadata": {
        "id": "8TAO9rPwii7x",
        "colab_type": "code",
        "colab": {},
        "outputId": "594be623-b253-415b-93b1-bdb3178b9f5b"
      },
      "source": [
        "#Count null\n",
        "df['household_size'].isnull().sum()"
      ],
      "execution_count": 0,
      "outputs": [
        {
          "output_type": "execute_result",
          "data": {
            "text/plain": [
              "0"
            ]
          },
          "metadata": {
            "tags": []
          },
          "execution_count": 136
        }
      ]
    },
    {
      "cell_type": "markdown",
      "metadata": {
        "id": "gao-gax5ii70",
        "colab_type": "text"
      },
      "source": [
        "### 5.3 Checking Anomalies"
      ]
    },
    {
      "cell_type": "code",
      "metadata": {
        "id": "xRc7TnX1ii71",
        "colab_type": "code",
        "colab": {},
        "outputId": "4d767842-a57e-42a8-a1a1-94e7f8fe61f9"
      },
      "source": [
        "# Checking for Anomalies\n",
        "col_names = ['Respondent Age','year','household_size']\n",
        "fig, ax = plt.subplots(len(col_names), figsize=(15,15))\n",
        "\n",
        "for i, col_val in enumerate(col_names):\n",
        "\n",
        "    sns.distplot(df[col_val], hist=True, ax=ax[i])\n",
        "    ax[i].set_title('Frequency distribution of '+col_val, fontsize=10)\n",
        "    ax[i].set_xlabel(col_val, fontsize=8)\n",
        "    ax[i].set_ylabel('Count', fontsize=8)\n",
        "\n",
        "plt.show()"
      ],
      "execution_count": 0,
      "outputs": [
        {
          "output_type": "stream",
          "text": [
            "/home/ken/anaconda3/lib/python3.6/site-packages/scipy/stats/stats.py:1633: FutureWarning: Using a non-tuple sequence for multidimensional indexing is deprecated; use `arr[tuple(seq)]` instead of `arr[seq]`. In the future this will be interpreted as an array index, `arr[np.array(seq)]`, which will result either in an error or a different result.\n",
            "  return np.add.reduce(sorted[indexer] * weights, axis=axis) / sumval\n"
          ],
          "name": "stderr"
        },
        {
          "output_type": "display_data",
          "data": {
            "image/png": "[encoded data removed]",
            "text/plain": [
              "<matplotlib.figure.Figure at 0x7efce926b278>"
            ]
          },
          "metadata": {
            "tags": []
          }
        }
      ]
    },
    {
      "cell_type": "markdown",
      "metadata": {
        "id": "Og6ispxIii73",
        "colab_type": "text"
      },
      "source": [
        "### 5.4 More data cleaning procedures"
      ]
    },
    {
      "cell_type": "markdown",
      "metadata": {
        "id": "PeSnuypdii74",
        "colab_type": "text"
      },
      "source": [
        "Plot distribution of categorical variables\n",
        "\n",
        "#### a) Country"
      ]
    },
    {
      "cell_type": "code",
      "metadata": {
        "id": "YUXKWG84ii77",
        "colab_type": "code",
        "colab": {},
        "outputId": "e56a5aa1-ce30-4739-bc5a-153490215cf3"
      },
      "source": [
        "df['country'].value_counts().plot.bar(rot =0)\n",
        "plt.xlabel(\"Country\")\n",
        "plt.ylabel(\"Count\")\n",
        "plt.title(\"Records Count per Country\")\n",
        "plt.show()"
      ],
      "execution_count": 0,
      "outputs": [
        {
          "output_type": "display_data",
          "data": {
            "image/png": "[encoded data removed]",
            "text/plain": [
              "<matplotlib.figure.Figure at 0x7efce4caf358>"
            ]
          },
          "metadata": {
            "tags": []
          }
        }
      ]
    },
    {
      "cell_type": "markdown",
      "metadata": {
        "id": "aupCYDc7ii79",
        "colab_type": "text"
      },
      "source": [
        "#### b) Has a Bank account"
      ]
    },
    {
      "cell_type": "code",
      "metadata": {
        "id": "fh2-5bzVii7-",
        "colab_type": "code",
        "colab": {},
        "outputId": "417e39d7-a348-4b21-b8ca-b80dbc753c89"
      },
      "source": [
        "df['Has a Bank account'].value_counts().plot.bar(rot =0)\n",
        "plt.xlabel(\"Has a Bank account\")\n",
        "plt.ylabel(\"Count\")\n",
        "plt.title(\"Has a Bank account or not\")\n",
        "plt.show()"
      ],
      "execution_count": 0,
      "outputs": [
        {
          "output_type": "display_data",
          "data": {
            "image/png": "[encoded data removed]",
            "text/plain": [
              "<matplotlib.figure.Figure at 0x7efce4cc25f8>"
            ]
          },
          "metadata": {
            "tags": []
          }
        }
      ]
    },
    {
      "cell_type": "markdown",
      "metadata": {
        "id": "aWGoSQ5sii8A",
        "colab_type": "text"
      },
      "source": [
        "#### c) Type of Location"
      ]
    },
    {
      "cell_type": "code",
      "metadata": {
        "id": "SyX-X-Gcii8B",
        "colab_type": "code",
        "colab": {},
        "outputId": "a4d21323-82e5-4999-ae5c-e3c6d8433c84"
      },
      "source": [
        "df['Type of Location'].value_counts().plot.bar(rot =0)\n",
        "plt.xlabel(\"Type of Location\")\n",
        "plt.ylabel(\"Count\")\n",
        "plt.title(\"Type of Location' records count per Location\")\n",
        "plt.show()"
      ],
      "execution_count": 0,
      "outputs": [
        {
          "output_type": "display_data",
          "data": {
            "image/png": "[encoded data removed]",
            "text/plain": [
              "<matplotlib.figure.Figure at 0x7efce551c860>"
            ]
          },
          "metadata": {
            "tags": []
          }
        }
      ]
    },
    {
      "cell_type": "markdown",
      "metadata": {
        "id": "Bxb6Gaotii8E",
        "colab_type": "text"
      },
      "source": [
        "#### d) Cell Phone Access"
      ]
    },
    {
      "cell_type": "code",
      "metadata": {
        "id": "spcCFnx5ii8F",
        "colab_type": "code",
        "colab": {},
        "outputId": "070b6753-7232-49bf-95d3-050cb195f52e"
      },
      "source": [
        "df['Cell Phone Access'].value_counts().plot.bar(rot =0)\n",
        "plt.xlabel(\"Cell Phone Access\")\n",
        "plt.ylabel(\"Count\")\n",
        "plt.title(\"'Cell Phone Access Category Count\")\n",
        "plt.show()"
      ],
      "execution_count": 0,
      "outputs": [
        {
          "output_type": "display_data",
          "data": {
            "image/png": "[encoded data removed]",
            "text/plain": [
              "<matplotlib.figure.Figure at 0x7efce4e767f0>"
            ]
          },
          "metadata": {
            "tags": []
          }
        }
      ]
    },
    {
      "cell_type": "markdown",
      "metadata": {
        "id": "wXDwzBF6ii8I",
        "colab_type": "text"
      },
      "source": [
        "#### e) Gender of respondent"
      ]
    },
    {
      "cell_type": "code",
      "metadata": {
        "id": "fRjcuoAmii8I",
        "colab_type": "code",
        "colab": {},
        "outputId": "4fb6725c-dc50-487b-b1de-c05c0c0d109c"
      },
      "source": [
        "df['gender_of_respondent'].value_counts().plot.bar(rot =0)\n",
        "plt.xlabel(\"Gender of respondent\")\n",
        "plt.ylabel(\"Count\")\n",
        "plt.title(\"Gender of respondent records count\")\n",
        "plt.show()"
      ],
      "execution_count": 0,
      "outputs": [
        {
          "output_type": "display_data",
          "data": {
            "image/png": "[encoded data removed]",
            "text/plain": [
              "<matplotlib.figure.Figure at 0x7efce54f1320>"
            ]
          },
          "metadata": {
            "tags": []
          }
        }
      ]
    },
    {
      "cell_type": "markdown",
      "metadata": {
        "id": "XSIP1yoSii8L",
        "colab_type": "text"
      },
      "source": [
        "#### f) The relationship with head"
      ]
    },
    {
      "cell_type": "code",
      "metadata": {
        "id": "odLk9fCRii8L",
        "colab_type": "code",
        "colab": {},
        "outputId": "861cd177-cf93-4d43-c532-3eeb0f77596b"
      },
      "source": [
        "df['The relathip with head'].value_counts().plot.bar(rot =0,figsize=(10,5))\n",
        "plt.xlabel(\"The relationship with head\")\n",
        "plt.ylabel(\"Count\")\n",
        "plt.title(\"The relationship with head records count\")\n",
        "plt.show()"
      ],
      "execution_count": 0,
      "outputs": [
        {
          "output_type": "display_data",
          "data": {
            "image/png": "[encoded data removed]",
            "text/plain": [
              "<matplotlib.figure.Figure at 0x7efce4d5d0b8>"
            ]
          },
          "metadata": {
            "tags": []
          }
        }
      ]
    },
    {
      "cell_type": "markdown",
      "metadata": {
        "id": "togECovXii8N",
        "colab_type": "text"
      },
      "source": [
        "#### g) Marital status"
      ]
    },
    {
      "cell_type": "code",
      "metadata": {
        "id": "Xn7CBk7iii8O",
        "colab_type": "code",
        "colab": {},
        "outputId": "705bdb19-0923-439f-d8f3-a780209c71d5"
      },
      "source": [
        "df['marital_status'].value_counts().plot.bar(rot =0,figsize=(10,5))\n",
        "plt.xlabel(\"Marital status\")\n",
        "plt.ylabel(\"Count\")\n",
        "plt.title(\"Marital status records count\")\n",
        "plt.show()"
      ],
      "execution_count": 0,
      "outputs": [
        {
          "output_type": "display_data",
          "data": {
            "image/png": "[encoded data removed]",
            "text/plain": [
              "<matplotlib.figure.Figure at 0x7efce54d2438>"
            ]
          },
          "metadata": {
            "tags": []
          }
        }
      ]
    },
    {
      "cell_type": "markdown",
      "metadata": {
        "id": "hTND-4_3ii8R",
        "colab_type": "text"
      },
      "source": [
        "#### e) Level of Education"
      ]
    },
    {
      "cell_type": "code",
      "metadata": {
        "id": "bhATFT5zii8R",
        "colab_type": "code",
        "colab": {},
        "outputId": "e7eaa977-676d-4956-c6a7-447444f9a1c7"
      },
      "source": [
        "df['Level of Educuation'].value_counts().plot.bar(rot =0,figsize=(18,8))\n",
        "plt.xlabel(\"Level of Educuation\")\n",
        "plt.ylabel(\"Count\")\n",
        "plt.title(\"Level of Educuation records count\")\n",
        "plt.show()"
      ],
      "execution_count": 0,
      "outputs": [
        {
          "output_type": "display_data",
          "data": {
            "image/png": "[encoded data removed]",
            "text/plain": [
              "<matplotlib.figure.Figure at 0x7efce523f908>"
            ]
          },
          "metadata": {
            "tags": []
          }
        }
      ]
    },
    {
      "cell_type": "markdown",
      "metadata": {
        "id": "HvFqniGOii8T",
        "colab_type": "text"
      },
      "source": [
        "#### f) Type of Job"
      ]
    },
    {
      "cell_type": "code",
      "metadata": {
        "id": "lBMWvPztii8U",
        "colab_type": "code",
        "colab": {},
        "outputId": "603a1b7b-73f4-4363-8959-9f0ca05bbcc8"
      },
      "source": [
        "df['Type of Job'].value_counts().plot.bar(rot =0,figsize=(18,8))\n",
        "plt.xlabel(\"Type of Job\")\n",
        "plt.ylabel(\"Count\")\n",
        "plt.title(\"Type of Job records count\")\n",
        "plt.show()"
      ],
      "execution_count": 0,
      "outputs": [
        {
          "output_type": "display_data",
          "data": {
            "image/png": "[encoded data removed]",
            "text/plain": [
              "<matplotlib.figure.Figure at 0x7efce9269710>"
            ]
          },
          "metadata": {
            "tags": []
          }
        }
      ]
    },
    {
      "cell_type": "markdown",
      "metadata": {
        "colab_type": "text",
        "id": "n0nyDuFzBie_"
      },
      "source": [
        "## 6. Exploratory Analysis"
      ]
    },
    {
      "cell_type": "markdown",
      "metadata": {
        "id": "VQ2TbpR0ii8X",
        "colab_type": "text"
      },
      "source": [
        "Bivariate Summary"
      ]
    },
    {
      "cell_type": "markdown",
      "metadata": {
        "id": "d9Bn1gSyii8X",
        "colab_type": "text"
      },
      "source": [
        "Univariate Summary"
      ]
    },
    {
      "cell_type": "markdown",
      "metadata": {
        "id": "ru8zxFDqii8Y",
        "colab_type": "text"
      },
      "source": [
        "### Data Reduction"
      ]
    },
    {
      "cell_type": "markdown",
      "metadata": {
        "id": "tczeZz-0ii8Z",
        "colab_type": "text"
      },
      "source": [
        "Factor analysis"
      ]
    },
    {
      "cell_type": "code",
      "metadata": {
        "id": "rAQ1Spw-ii8Z",
        "colab_type": "code",
        "colab": {}
      },
      "source": [
        "#Factor Analysis"
      ],
      "execution_count": 0,
      "outputs": []
    },
    {
      "cell_type": "markdown",
      "metadata": {
        "id": "T2wWNF45ii8c",
        "colab_type": "text"
      },
      "source": [
        "Principal component analysis"
      ]
    },
    {
      "cell_type": "code",
      "metadata": {
        "id": "fCO6gjYMii8c",
        "colab_type": "code",
        "colab": {}
      },
      "source": [
        "#Principal component analysis calculation"
      ],
      "execution_count": 0,
      "outputs": []
    },
    {
      "cell_type": "markdown",
      "metadata": {
        "id": "gTWi21TXii8j",
        "colab_type": "text"
      },
      "source": [
        "Discriminant analysis"
      ]
    },
    {
      "cell_type": "code",
      "metadata": {
        "id": "xXxzh4EDii8k",
        "colab_type": "code",
        "colab": {}
      },
      "source": [
        "#Discriminant analysis calculation"
      ],
      "execution_count": 0,
      "outputs": []
    },
    {
      "cell_type": "markdown",
      "metadata": {
        "colab_type": "text",
        "id": "jGIWYbaWBl15"
      },
      "source": [
        "## 7. Implementing the Solution"
      ]
    },
    {
      "cell_type": "markdown",
      "metadata": {
        "colab_type": "text",
        "id": "YxdmjEW4BsOV"
      },
      "source": [
        "## 8. Challenging the solution"
      ]
    },
    {
      "cell_type": "markdown",
      "metadata": {
        "colab_type": "text",
        "id": "yxmyzXp2BvRx"
      },
      "source": [
        "## 9. Follow up questions\n",
        "\n"
      ]
    },
    {
      "cell_type": "code",
      "metadata": {
        "colab_type": "code",
        "id": "7zKz8H8NBx9J",
        "colab": {}
      },
      "source": [
        ""
      ],
      "execution_count": 0,
      "outputs": []
    }
  ]
}